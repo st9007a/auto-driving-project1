{
 "cells": [
  {
   "cell_type": "markdown",
   "metadata": {},
   "source": [
    "## simple demo for video processing of opencv"
   ]
  },
  {
   "cell_type": "code",
   "execution_count": null,
   "metadata": {},
   "outputs": [],
   "source": [
    "import cv2\n",
    "import numpy as np\n",
    "\n",
    "cap = cv2.VideoCapture(0)\n",
    "\n",
    "while(1):\n",
    "    \n",
    "    #Take each frame\n",
    "    _, frame = cap.read()\n",
    "    \n",
    "    # Convert BGR to HSV\n",
    "    hsv = cv2.cvtColor(frame, cv2.COLOR_BGR2HSV)\n",
    "    \n",
    "    # define range of blue color in HSV\n",
    "    lower_blue = np.array([110,50,50])\n",
    "    upper_blue = np.array([130,255,255])\n",
    "    \n",
    "    # Threshold the HSV image to get only blue colors\n",
    "    mask = cv2.inRange(hsv, lower_blue, upper_blue)\n",
    "    \n",
    "    # Bitwise-AND mask and original image\n",
    "    res = cv2.bitwise_and(frame,frame, mask= mask)\n",
    "    cv2.imshow('frame',frame)\n",
    "    cv2.imshow('mask',mask)\n",
    "    cv2.imshow('res',res)\n",
    "    k = cv2.waitKey(5) & 0xFF\n",
    "    \n",
    "    # ESC to skip video capture\n",
    "    if k == 27:\n",
    "        break\n",
    "\n",
    "cv2.destroyAllWindows()"
   ]
  },
  {
   "cell_type": "markdown",
   "metadata": {},
   "source": [
    "## cv2.fillPoly (img, pts, color, \\[, lineType[, shift[, offset]]\\])\n",
    "\n",
    "### parameters:\n",
    "\n",
    "- img: Image object\n",
    "- pts: Array of polygons where each polygon is represented as an array of points\n",
    "- color: Color of polygon, tuple object\n",
    "- lineType: Type of polygon boundaries. See [line()](https://docs.opencv.org/2.4/modules/core/doc/drawing_functions.html)\n",
    "- shift: Number of fractional bits in the vertex coordinates\n",
    "- offset: Optional offset of all points of the contours"
   ]
  },
  {
   "cell_type": "code",
   "execution_count": null,
   "metadata": {},
   "outputs": [],
   "source": [
    "import cv2\n",
    "import numpy as np\n",
    "\n",
    "img = cv2.imread('res/test01.jpg', cv2.IMREAD_COLOR)\n",
    "contours = np.array([[0, 100], [100, 100], [100, 0]])\n",
    "tt = cv2.fillPoly(img, pts = [contours], color = (0, 0, 255))\n",
    "cv2.circle(tt, (0, 100), 20, (255,0,0), -1)\n",
    "imS = cv2.resize(tt, (560, 240))\n",
    "cv2.imshow('rCopy', imS)\n",
    "cv2.waitKey()"
   ]
  },
  {
   "cell_type": "markdown",
   "metadata": {},
   "source": [
    "## cv2.line()"
   ]
  },
  {
   "cell_type": "code",
   "execution_count": null,
   "metadata": {},
   "outputs": [],
   "source": [
    "import cv2\n",
    "import numpy as np\n",
    "\n",
    "img=cv2.imread('res/test01.jpg', cv2.IMREAD_COLOR)\n",
    "lineThickness = 2\n",
    "cv2.line(img, (0, 0), (200, 200), (0, 0, 0), lineThickness)\n",
    "imS = cv2.resize(img, (560, 240))\n",
    "cv2.imshow('rCopy', imS)\n",
    "cv2.waitKey()"
   ]
  },
  {
   "cell_type": "markdown",
   "metadata": {},
   "source": [
    "## cv2.addWeighted (src1, alpha, src2, beta, gamma, dst)\n",
    "\n",
    "### parameters\n",
    "\n",
    "- src1: first input array\n",
    "- alpha: weight of first input array elements\n",
    "- src2: second input array of the same size and channel number as src1\n",
    "- beta: weight of second array elements\n",
    "- dst: output array that has the same size and number of channels as the input arrays\n",
    "- gamma: scalar added to each sum"
   ]
  },
  {
   "cell_type": "code",
   "execution_count": null,
   "metadata": {},
   "outputs": [],
   "source": [
    "import cv2\n",
    "import numpy as np\n",
    "\n",
    "img = cv2.imread('res/test01.jpg', cv2.IMREAD_COLOR)\n",
    "overlay = img.copy()\n",
    "output = img.copy()\n",
    "cv2.rectangle(overlay, (420, 205), (595, 385), (0, 0, 255), -1)\n",
    "cv2.addWeighted(overlay, 0.5, output, 0.5, 0, output)\n",
    "cv2.imshow('rCopy', output)\n",
    "cv2.waitKey()"
   ]
  }
 ],
 "metadata": {
  "kernelspec": {
   "display_name": "Python 3",
   "language": "python",
   "name": "python3"
  },
  "language_info": {
   "codemirror_mode": {
    "name": "ipython",
    "version": 3
   },
   "file_extension": ".py",
   "mimetype": "text/x-python",
   "name": "python",
   "nbconvert_exporter": "python",
   "pygments_lexer": "ipython3",
   "version": "3.5.5"
  }
 },
 "nbformat": 4,
 "nbformat_minor": 2
}
